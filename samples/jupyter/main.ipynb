{
 "cells": [
  {
   "cell_type": "markdown",
   "id": "56f1559b",
   "metadata": {},
   "source": [
    "# cTraderFix Jupyter Sample\n",
    "\n",
    "In this Jupyter notebook we will use the Python package \"ctrader-fix\" to interact with cTrader FIX API.\n",
    "\n",
    "Let's start."
   ]
  },
  {
   "cell_type": "markdown",
   "id": "cca68e74",
   "metadata": {},
   "source": [
    "If you haven't already installed the \"ctrader-fix\" package, run the next code cell to install it via pip:"
   ]
  },
  {
   "cell_type": "code",
   "execution_count": 1,
   "id": "c53bfd78",
   "metadata": {},
   "outputs": [
    {
     "name": "stdout",
     "output_type": "stream",
     "text": [
      "^C\n"
     ]
    }
   ],
   "source": [
    "!pip install ctrader-open-api"
   ]
  },
  {
   "cell_type": "markdown",
   "id": "ca2b39c1",
   "metadata": {},
   "source": [
    "Then we have to import all necessary types:"
   ]
  },
  {
   "cell_type": "code",
   "execution_count": 2,
   "id": "4ab2a19d",
   "metadata": {},
   "outputs": [],
   "source": [
    "from twisted.internet import reactor\n",
    "import json\n",
    "from ctrader_fix import *\n",
    "import datetime"
   ]
  },
  {
   "cell_type": "markdown",
   "id": "d91f78fe",
   "metadata": {},
   "source": [
    "Now we use the \"config-trade.json\" config file to get your API credentials.\n",
    "Be sure to populate it with your API credentials before running next cell:"
   ]
  },
  {
   "cell_type": "code",
   "execution_count": 3,
   "id": "2e67ade6",
   "metadata": {},
   "outputs": [],
   "source": [
    "# you can use two separate config files for QUOTE and TRADE\n",
    "with open(\"config.json\") as configFile:\n",
    "    config = json.load(configFile)"
   ]
  },
  {
   "cell_type": "markdown",
   "id": "f40aa449",
   "metadata": {},
   "source": [
    "Then we will create a client based on our config:"
   ]
  },
  {
   "cell_type": "code",
   "execution_count": 4,
   "id": "a81eaee2",
   "metadata": {},
   "outputs": [],
   "source": [
    "client = Client(config[\"Host\"], config[\"Port\"], ssl = config[\"SSL\"])"
   ]
  },
  {
   "cell_type": "markdown",
   "id": "f977a604",
   "metadata": {},
   "source": [
    "We will use ther below \"send\" method for sending our message:"
   ]
  },
  {
   "cell_type": "code",
   "execution_count": 5,
   "id": "6a57524f",
   "metadata": {},
   "outputs": [],
   "source": [
    "def send(request):\n",
    "    diferred = client.send(request)\n",
    "    diferred.addCallback(lambda _: print(\"\\nSent: \", request.getMessage(client.getMessageSequenceNumber()).replace(\"\u0001\", \"|\")))"
   ]
  },
  {
   "cell_type": "markdown",
   "id": "9e722b92",
   "metadata": {},
   "source": [
    "We are going to:\n",
    "\n",
    "1. Send a log on requst\n",
    "2. After receiving log on response we send security list request\n",
    "3. Then if host is Trade we create a new market order for second symbol otherwise we send a mrket data request for the second symbol\n",
    "\n",
    "Let's set the client call backs that will be used by client after it got message received/connected/disconnected:"
   ]
  },
  {
   "cell_type": "code",
   "execution_count": 6,
   "id": "8718a36a",
   "metadata": {},
   "outputs": [],
   "source": [
    "def onMessageReceived(client, responseMessage): # Callback for receiving all messages\n",
    "    print(\"Received: \", responseMessage.getMessage().replace(\"\u0001\", \"|\"))\n",
    "    # We get the message type field value\n",
    "    messageType = responseMessage.getFieldValue(35)\n",
    "    # we send a security list request after we received logon message response\n",
    "    if messageType == \"A\":\n",
    "        securityListRequest = SecurityListRequest(config)\n",
    "        securityListRequest.SecurityReqID = \"A\"\n",
    "        securityListRequest.SecurityListRequestType = 0\n",
    "        send(securityListRequest)\n",
    "    # After receiving the security list we send a market order request by using the security list first symbol\n",
    "    elif messageType == \"y\":\n",
    "        # We use getFieldValue to get all symbol IDs, it will return a list in this case\n",
    "        # because the symbol ID field is repetitive\n",
    "        symboldIds = responseMessage.getFieldValue(55)\n",
    "        if config[\"TargetSubID\"] == \"TRADE\":\n",
    "            newOrderSingle = NewOrderSingle(config)\n",
    "            newOrderSingle.ClOrdID = \"B\"\n",
    "            newOrderSingle.Symbol = symboldIds[1]\n",
    "            newOrderSingle.Side = 1\n",
    "            newOrderSingle.OrderQty = 1000\n",
    "            newOrderSingle.OrdType = 1\n",
    "            newOrderSingle.Designation = \"From Jupyter\"\n",
    "            send(newOrderSingle)\n",
    "        else:\n",
    "            marketDataRequest = MarketDataRequest(config)\n",
    "            marketDataRequest.MDReqID = \"a\"\n",
    "            marketDataRequest.SubscriptionRequestType = 1\n",
    "            marketDataRequest.MarketDepth = 1\n",
    "            marketDataRequest.NoMDEntryTypes = 1\n",
    "            marketDataRequest.MDEntryType = 0\n",
    "            marketDataRequest.NoRelatedSym = 1\n",
    "            marketDataRequest.Symbol = symboldIds[1]\n",
    "            send(marketDataRequest)\n",
    "    # after receiving the new order request response we stop the reactor\n",
    "    # And we will be disconnected from API\n",
    "    elif messageType == \"8\" or messageType == \"j\":\n",
    "        print(\"We are done, stopping the reactor\")\n",
    "        reactor.stop()\n",
    "\n",
    "def disconnected(client, reason): # Callback for client disconnection\n",
    "    print(\"Disconnected, reason: \", reason)\n",
    "\n",
    "def connected(client): # Callback for client connection\n",
    "    print(\"Connected\")\n",
    "    logonRequest = LogonRequest(config)\n",
    "    send(logonRequest)\n",
    "    \n",
    "# Setting client callbacks\n",
    "client.setConnectedCallback(connected)\n",
    "client.setDisconnectedCallback(disconnected)\n",
    "client.setMessageReceivedCallback(onMessageReceived)"
   ]
  },
  {
   "cell_type": "markdown",
   "id": "fbcde03f",
   "metadata": {},
   "source": [
    "The last step is to run our client service, it will run inside Twisted reactor loop asynchronously:"
   ]
  },
  {
   "cell_type": "code",
   "execution_count": null,
   "id": "98c9510e",
   "metadata": {},
   "outputs": [
    {
     "name": "stdout",
     "output_type": "stream",
     "text": [
      "Requirement already satisfied: ctrader-open-api in c:\\users\\admin\\appdata\\local\\programs\\python\\python312\\lib\\site-packages (0.9.2)\n",
      "Collecting Twisted==24.3.0 (from ctrader-open-api)\n",
      "  Using cached twisted-24.3.0-py3-none-any.whl.metadata (9.5 kB)\n",
      "Requirement already satisfied: inputimeout==1.0.4 in c:\\users\\admin\\appdata\\local\\programs\\python\\python312\\lib\\site-packages (from ctrader-open-api) (1.0.4)\n",
      "Requirement already satisfied: protobuf==3.20.1 in c:\\users\\admin\\appdata\\local\\programs\\python\\python312\\lib\\site-packages (from ctrader-open-api) (3.20.1)\n",
      "Requirement already satisfied: pyOpenSSL==24.1.0 in c:\\users\\admin\\appdata\\local\\programs\\python\\python312\\lib\\site-packages (from ctrader-open-api) (24.1.0)\n",
      "Requirement already satisfied: requests==2.32.3 in c:\\users\\admin\\appdata\\local\\programs\\python\\python312\\lib\\site-packages (from ctrader-open-api) (2.32.3)\n",
      "Requirement already satisfied: cryptography<43,>=41.0.5 in c:\\users\\admin\\appdata\\local\\programs\\python\\python312\\lib\\site-packages (from pyOpenSSL==24.1.0->ctrader-open-api) (42.0.8)\n",
      "Requirement already satisfied: charset-normalizer<4,>=2 in c:\\users\\admin\\appdata\\local\\programs\\python\\python312\\lib\\site-packages (from requests==2.32.3->ctrader-open-api) (3.3.2)\n",
      "Requirement already satisfied: idna<4,>=2.5 in c:\\users\\admin\\appdata\\local\\programs\\python\\python312\\lib\\site-packages (from requests==2.32.3->ctrader-open-api) (3.10)\n",
      "Requirement already satisfied: urllib3<3,>=1.21.1 in c:\\users\\admin\\appdata\\local\\programs\\python\\python312\\lib\\site-packages (from requests==2.32.3->ctrader-open-api) (2.2.3)\n",
      "Requirement already satisfied: certifi>=2017.4.17 in c:\\users\\admin\\appdata\\local\\programs\\python\\python312\\lib\\site-packages (from requests==2.32.3->ctrader-open-api) (2024.8.30)\n",
      "Requirement already satisfied: attrs>=21.3.0 in c:\\users\\admin\\appdata\\local\\programs\\python\\python312\\lib\\site-packages (from Twisted==24.3.0->ctrader-open-api) (24.2.0)\n",
      "Requirement already satisfied: automat>=0.8.0 in c:\\users\\admin\\appdata\\local\\programs\\python\\python312\\lib\\site-packages (from Twisted==24.3.0->ctrader-open-api) (24.8.1)\n",
      "Requirement already satisfied: constantly>=15.1 in c:\\users\\admin\\appdata\\local\\programs\\python\\python312\\lib\\site-packages (from Twisted==24.3.0->ctrader-open-api) (23.10.4)\n",
      "Requirement already satisfied: hyperlink>=17.1.1 in c:\\users\\admin\\appdata\\local\\programs\\python\\python312\\lib\\site-packages (from Twisted==24.3.0->ctrader-open-api) (21.0.0)\n",
      "Requirement already satisfied: incremental>=22.10.0 in c:\\users\\admin\\appdata\\local\\programs\\python\\python312\\lib\\site-packages (from Twisted==24.3.0->ctrader-open-api) (24.7.2)\n",
      "Requirement already satisfied: twisted-iocpsupport<2,>=1.0.2 in c:\\users\\admin\\appdata\\local\\programs\\python\\python312\\lib\\site-packages (from Twisted==24.3.0->ctrader-open-api) (1.0.4)\n",
      "Requirement already satisfied: typing-extensions>=4.2.0 in c:\\users\\admin\\appdata\\local\\programs\\python\\python312\\lib\\site-packages (from Twisted==24.3.0->ctrader-open-api) (4.12.2)\n",
      "Requirement already satisfied: zope-interface>=5 in c:\\users\\admin\\appdata\\local\\programs\\python\\python312\\lib\\site-packages (from Twisted==24.3.0->ctrader-open-api) (7.0.3)\n",
      "Requirement already satisfied: cffi>=1.12 in c:\\users\\admin\\appdata\\local\\programs\\python\\python312\\lib\\site-packages (from cryptography<43,>=41.0.5->pyOpenSSL==24.1.0->ctrader-open-api) (1.17.1)\n",
      "Requirement already satisfied: setuptools>=61.0 in c:\\users\\admin\\appdata\\local\\programs\\python\\python312\\lib\\site-packages (from incremental>=22.10.0->Twisted==24.3.0->ctrader-open-api) (75.1.0)\n",
      "Requirement already satisfied: pycparser in c:\\users\\admin\\appdata\\local\\programs\\python\\python312\\lib\\site-packages (from cffi>=1.12->cryptography<43,>=41.0.5->pyOpenSSL==24.1.0->ctrader-open-api) (2.22)\n",
      "Using cached twisted-24.3.0-py3-none-any.whl (3.2 MB)\n",
      "Installing collected packages: Twisted\n",
      "  Attempting uninstall: Twisted\n",
      "    Found existing installation: Twisted 21.7.0\n",
      "    Uninstalling Twisted-21.7.0:\n",
      "      Successfully uninstalled Twisted-21.7.0\n",
      "Successfully installed Twisted-24.3.0\n"
     ]
    },
    {
     "name": "stderr",
     "output_type": "stream",
     "text": [
      "ERROR: pip's dependency resolver does not currently take into account all the packages that are installed. This behaviour is the source of the following dependency conflicts.\n",
      "ctrader-fix 0.1.1 requires Twisted==21.7.0, but you have twisted 24.3.0 which is incompatible.\n"
     ]
    }
   ],
   "source": [
    "# Starting the client service\n",
    "client.startService()\n",
    "# Run Twisted reactor, we imported it earlier\n",
    "reactor.run()"
   ]
  }
 ],
 "metadata": {
  "kernelspec": {
   "display_name": "Python 3",
   "language": "python",
   "name": "python3"
  },
  "language_info": {
   "codemirror_mode": {
    "name": "ipython",
    "version": 3
   },
   "file_extension": ".py",
   "mimetype": "text/x-python",
   "name": "python",
   "nbconvert_exporter": "python",
   "pygments_lexer": "ipython3",
   "version": "3.12.7"
  }
 },
 "nbformat": 4,
 "nbformat_minor": 5
}
